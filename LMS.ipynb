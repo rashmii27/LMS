{
  "nbformat": 4,
  "nbformat_minor": 0,
  "metadata": {
    "colab": {
      "provenance": []
    },
    "kernelspec": {
      "name": "python3",
      "display_name": "Python 3"
    },
    "language_info": {
      "name": "python"
    }
  },
  "cells": [
    {
      "cell_type": "markdown",
      "source": [
        "**LMS**"
      ],
      "metadata": {
        "id": "wwgjIn3vT_tI"
      }
    },
    {
      "cell_type": "code",
      "execution_count": 76,
      "metadata": {
        "collapsed": true,
        "id": "aOi_C4rttz_l"
      },
      "outputs": [],
      "source": [
        "import sqlite3"
      ]
    },
    {
      "cell_type": "markdown",
      "source": [
        "CONNECT TO DB"
      ],
      "metadata": {
        "id": "LbdyI-INT9IA"
      }
    },
    {
      "cell_type": "code",
      "source": [
        "conn = sqlite3.connect('library.db')\n",
        "cursor = conn.cursor()"
      ],
      "metadata": {
        "id": "ctRCn2cbt6AC"
      },
      "execution_count": 77,
      "outputs": []
    },
    {
      "cell_type": "markdown",
      "source": [
        "Create Tables"
      ],
      "metadata": {
        "id": "11wMnLJ5Utzb"
      }
    },
    {
      "cell_type": "code",
      "source": [
        "cursor.execute('''\n",
        "CREATE TABLE IF NOT EXISTS BookDetails(\n",
        "    BookID INTEGER PRIMARY KEY AUTOINCREMENT,\n",
        "    BookName TEXT,\n",
        "    AuthorName TEXT,\n",
        "    TotalCopies INTEGER,\n",
        "    AvailableCopies INTEGER\n",
        ")\n",
        "''')"
      ],
      "metadata": {
        "colab": {
          "base_uri": "https://localhost:8080/"
        },
        "id": "o_AWAECMCp2e",
        "outputId": "24a127bf-5e17-4df5-9a5c-deb0de2e896e"
      },
      "execution_count": 78,
      "outputs": [
        {
          "output_type": "execute_result",
          "data": {
            "text/plain": [
              "<sqlite3.Cursor at 0x7c8650408e40>"
            ]
          },
          "metadata": {},
          "execution_count": 78
        }
      ]
    },
    {
      "cell_type": "code",
      "source": [
        "cursor.execute('''\n",
        "CREATE TABLE IF NOT EXISTS BorrowerDetails (\n",
        "    BorrowerID INTEGER PRIMARY KEY AUTOINCREMENT,\n",
        "    BorrowerName TEXT,\n",
        "    ContactInfo TEXT\n",
        ")\n",
        "''')"
      ],
      "metadata": {
        "colab": {
          "base_uri": "https://localhost:8080/"
        },
        "id": "DdmiBZrhULlD",
        "outputId": "597f789e-8cb3-4bc4-8e35-ed6fe57f9300"
      },
      "execution_count": 79,
      "outputs": [
        {
          "output_type": "execute_result",
          "data": {
            "text/plain": [
              "<sqlite3.Cursor at 0x7c8650408e40>"
            ]
          },
          "metadata": {},
          "execution_count": 79
        }
      ]
    },
    {
      "cell_type": "code",
      "source": [
        "cursor.execute('''\n",
        "CREATE TABLE IF NOT EXISTS LibraryDetails (\n",
        "    ID INTEGER PRIMARY KEY AUTOINCREMENT,\n",
        "    BookID INTEGER,\n",
        "    BorrowerID INTEGER,\n",
        "    BorrowDate DATE,\n",
        "    ReturnDate DATE,\n",
        "    Status TEXT CHECK(Status ('borrow', 'return'))\n",
        ")\n",
        "''')"
      ],
      "metadata": {
        "colab": {
          "base_uri": "https://localhost:8080/"
        },
        "id": "lc8METzeUQkQ",
        "outputId": "bc033f35-3a2f-4cdc-9b4f-70d6a6f73ba0"
      },
      "execution_count": 130,
      "outputs": [
        {
          "output_type": "execute_result",
          "data": {
            "text/plain": [
              "<sqlite3.Cursor at 0x7c8650408e40>"
            ]
          },
          "metadata": {},
          "execution_count": 130
        }
      ]
    },
    {
      "cell_type": "markdown",
      "source": [
        "Data In Table"
      ],
      "metadata": {
        "id": "4KQxgFovUonH"
      }
    },
    {
      "cell_type": "code",
      "source": [
        "books = [\n",
        "    ('Harry Potter 1', 'J.K. Rowling', 5, 5),\n",
        "    ('Harry Potter 2', 'J.K. Rowling', 3, 3),\n",
        "    ('Harry Potter 3', 'J.K. Rowling', 4, 4),\n",
        "    ('Harry Potter 4', 'J.K. Rowling', 2, 2),\n",
        "    ('Harry Potter 5', 'J.K. Rowling', 3, 3),\n",
        "    ('Harry Potter 6', 'J.K. Rowling', 4, 4),\n",
        "    ('Harry Potter 7', 'J.K. Rowling', 6, 6),\n",
        "    ('The 48 Laws of Power', 'Robert Greene', 5, 5),\n",
        "    ('War and Peace', 'Leo Tolstoy', 3, 3),\n",
        "    ('The Odyssey', 'Homer', 2, 2),\n",
        "    ('The Shining', 'Stephen King', 4, 4),\n",
        "    ('The Da Vinci Code', 'Dan Brown', 5, 5),\n",
        "    ('The Alchemist', 'Paulo Coelho', 3, 3),\n",
        "    ('Little Women', 'Louisa Alcott', 6, 6),\n",
        "    ('Animal Farm', 'George Orwell', 3, 3),\n",
        "    ('The Picture of Dorian Gray', 'Oscar Wilde', 2, 2)\n",
        "]\n"
      ],
      "metadata": {
        "id": "qW3AzrqAUmT2"
      },
      "execution_count": 81,
      "outputs": []
    },
    {
      "cell_type": "code",
      "source": [
        "students = [\n",
        "    ('Rashmi', 'rashmi@gmail.com'),\n",
        "    ('Ram', 'ram@gmail.com'),\n",
        "    ('Milo', 'milo@gmail.com'),\n",
        "    ('Riddhi', 'riddhi@gmail.com'),\n",
        "    ('Jerry', 'jerry@gmail.com'),\n",
        "    ('Tom', 'tom@gmail.com'),\n",
        "    ('Dan', 'dan@gmail.com')\n",
        "]"
      ],
      "metadata": {
        "id": "oyueHnpvU2v0"
      },
      "execution_count": 82,
      "outputs": []
    },
    {
      "cell_type": "code",
      "source": [
        "conn.commit()"
      ],
      "metadata": {
        "colab": {
          "base_uri": "https://localhost:8080/"
        },
        "id": "2DtKVl7DU7Zi",
        "outputId": "f3137d0d-867a-4d24-dfd1-0c4285e0cbe8"
      },
      "execution_count": 83,
      "outputs": [
        {
          "output_type": "execute_result",
          "data": {
            "text/plain": [
              "<sqlite3.Cursor at 0x7c8650408e40>"
            ]
          },
          "metadata": {},
          "execution_count": 83
        }
      ]
    },
    {
      "cell_type": "code",
      "source": [
        "def borrow_book(book_id):\n",
        "    cursor.execute(\"SELECT AvailableCopies FROM BookDetails\")\n",
        "\n",
        "    if result > 0:\n",
        "        cursor.execute(\"UPDATE BookDetails SET AvailableCopies = AvailableCopies - 1 WHERE BookID = ?\", (book_id,))\n",
        "\n",
        "\n",
        "        print(\"Book {book_id} borrowed successfully!\")\n",
        "    else result:\n",
        "        print(\"Sorry, book {book_id} is not available.\")"
      ],
      "metadata": {
        "colab": {
          "base_uri": "https://localhost:8080/",
          "height": 106
        },
        "id": "8QpSDVFgVDKt",
        "outputId": "10e6a2fd-e7c9-4661-efbd-fb7366bf2f6f"
      },
      "execution_count": 126,
      "outputs": [
        {
          "output_type": "error",
          "ename": "SyntaxError",
          "evalue": "expected ':' (<ipython-input-126-14c8cde59f75>, line 8)",
          "traceback": [
            "\u001b[0;36m  File \u001b[0;32m\"<ipython-input-126-14c8cde59f75>\"\u001b[0;36m, line \u001b[0;32m8\u001b[0m\n\u001b[0;31m    else result:\u001b[0m\n\u001b[0m         ^\u001b[0m\n\u001b[0;31mSyntaxError\u001b[0m\u001b[0;31m:\u001b[0m expected ':'\n"
          ]
        }
      ]
    },
    {
      "cell_type": "code",
      "source": [
        "def return_book(book_id):\n",
        "    cursor.execute(\"SELECT AvailableCopies FROM BookDetails\")\n",
        "\n",
        "    if result:\n",
        "        cursor.execute(\"UPDATE BookDetails SET AvailableCopies = AvailableCopies + 1 WHERE BookID = ?\", (book_id,))\n",
        "\n",
        "\n",
        "        print(\"Book {book_id} returned successfully!\")\n",
        "    else:\n",
        "        print(\"Book {book_id} not found.\")"
      ],
      "metadata": {
        "id": "YSo9e_4EVHJK"
      },
      "execution_count": 127,
      "outputs": []
    },
    {
      "cell_type": "code",
      "source": [
        "def check_availability(book_id):\n",
        "    cursor.execute(\"SELECT AvailableCopies FROM BookDetails)\n",
        "\n",
        "    if result = available_copies\n",
        "\n",
        "        available_copies > 0:\n",
        "            print(\"Book {book_id} is available. {available_copies} copies left.\")\n",
        "        else:\n",
        "            print(\"Book {book_id} is not available.\")\n"
      ],
      "metadata": {
        "colab": {
          "base_uri": "https://localhost:8080/",
          "height": 106
        },
        "id": "2G2dGBYtVZvm",
        "outputId": "9f21c063-2c2c-49c5-dce3-ac1fe8696476"
      },
      "execution_count": 129,
      "outputs": [
        {
          "output_type": "error",
          "ename": "SyntaxError",
          "evalue": "unterminated string literal (detected at line 2) (<ipython-input-129-b69fdf36b2f0>, line 2)",
          "traceback": [
            "\u001b[0;36m  File \u001b[0;32m\"<ipython-input-129-b69fdf36b2f0>\"\u001b[0;36m, line \u001b[0;32m2\u001b[0m\n\u001b[0;31m    cursor.execute(\"SELECT AvailableCopies FROM BookDetails)\u001b[0m\n\u001b[0m                   ^\u001b[0m\n\u001b[0;31mSyntaxError\u001b[0m\u001b[0;31m:\u001b[0m unterminated string literal (detected at line 2)\n"
          ]
        }
      ]
    }
  ]
}