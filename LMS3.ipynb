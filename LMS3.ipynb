{
  "cells": [
    {
      "cell_type": "code",
      "execution_count": 6,
      "metadata": {
        "id": "n0DA0DI27Wa_"
      },
      "outputs": [],
      "source": [
        "class Book:\n",
        "    def __init__(self, book_id, title, author, checked_out=False):\n",
        "        self.book_id = book_id\n",
        "        self.title = title\n",
        "        self.author = author\n",
        "        self.checked_out = checked_out\n",
        "\n",
        "    def __str__(self):\n",
        "        return f\"{self.book_id}: {self.title} by {self.author}, {'Checked out' if self.checked_out else 'Available'}\""
      ]
    },
    {
      "cell_type": "code",
      "execution_count": 7,
      "metadata": {
        "id": "Z0O0haYK7Q6C"
      },
      "outputs": [],
      "source": [
        "class LibraryManager:\n",
        "    def __init__(self):\n",
        "        self.books = {}\n",
        "\n",
        "    def add_book(self, book):\n",
        "        if book.book_id in self.books:\n",
        "            print(\"This book ID already exists.\")\n",
        "        else:\n",
        "            self.books[book.book_id] = book\n",
        "            print(\"Book added successfully.\")\n",
        "\n",
        "    def update_book(self, book_id, title=None, author=None):\n",
        "        if book_id not in self.books:\n",
        "            print(\"Book not found.\")\n",
        "        else:\n",
        "            if title:\n",
        "                self.books[book_id].title = title\n",
        "            if author:\n",
        "                self.books[book_id].author = author\n",
        "            print(\"Book updated successfully.\")\n",
        "\n",
        "    def delete_book(self, book_id):\n",
        "        if book_id in self.books:\n",
        "            del self.books[book_id]\n",
        "            print(\"Book deleted successfully.\")\n",
        "        else:\n",
        "            print(\"Book not found.\")\n",
        "\n",
        "    def list_books(self):\n",
        "        for book in self.books.values():\n",
        "            print(book)\n",
        "\n",
        "    def search_books(self, query):\n",
        "        found_books = [book for book in self.books.values() if query.lower() in book.title.lower() or query.lower() in book.author.lower()]\n",
        "        if found_books:\n",
        "            for book in found_books:\n",
        "                print(book)\n",
        "        else:\n",
        "            print(\"No books found matching your query.\")\n",
        "\n",
        "    def check_out_book(self, book_id):\n",
        "        if book_id not in self.books:\n",
        "            print(\"Book not found.\")\n",
        "        elif self.books[book_id].checked_out:\n",
        "            print(\"Book is already checked out.\")\n",
        "        else:\n",
        "            self.books[book_id].checked_out = True\n",
        "            print(\"Book checked out successfully.\")\n",
        "\n",
        "    def check_in_book(self, book_id):\n",
        "        if book_id not in self.books:\n",
        "            print(\"Book not found.\")\n",
        "        elif not self.books[book_id].checked_out:\n",
        "            print(\"Book is not checked out.\")\n",
        "        else:\n",
        "            self.books[book_id].checked_out = False\n",
        "\n",
        ""
      ]
    },
    {
      "cell_type": "code",
      "execution_count": 8,
      "metadata": {
        "id": "V1mkWRRz7koY"
      },
      "outputs": [],
      "source": [
        "\n",
        "def main():\n",
        "    library_manager = LibraryManager()\n",
        "\n",
        "    while True:\n",
        "        print(\"\\nLibrary Management System\")\n",
        "        print(\"1. Add a new book\")\n",
        "        print(\"2. Update book\")\n",
        "        print(\"3. Delete book\")\n",
        "        print(\"4. List all books\")\n",
        "        print(\"5. Search for books\")\n",
        "        print(\"6. Check out book\")\n",
        "        print(\"7. Check in book\")\n",
        "        print(\"8. Exit\")\n",
        "        choice = input(\"Enter your choice: \")\n",
        "\n",
        "        if choice == '1':\n",
        "            book_id = input(\"Enter book ID: \")\n",
        "            title = input(\"Enter book title: \")\n",
        "            author = input(\"Enter book author: \")\n",
        "            library_manager.add_book(Book(book_id, title, author))\n",
        "        elif choice == '2':\n",
        "            book_id = input(\"Enter book ID: \")\n",
        "            title = input(\"Enter new title: \")\n",
        "            author = input(\"Enter new author : \")\n",
        "            library_manager.update_book(book_id, title, author)\n",
        "        elif choice == '3':\n",
        "            book_id = input(\"Enter book ID to delete: \")\n",
        "            library_manager.delete_book(book_id)\n",
        "        elif choice == '4':\n",
        "            library_manager.list_books()\n",
        "        elif choice == '5':\n",
        "            query = input(\"Enter search query (title or author): \")\n",
        "            library_manager.search_books(query)\n",
        "        elif choice == '6':\n",
        "            book_id = input(\"Enter book ID to check out: \")\n",
        "            library_manager.check_out_book(book_id)\n",
        "        elif choice == '7':\n",
        "            book_id = input(\"Enter book ID to check in: \")\n",
        "            library_manager.check_in_book(book_id)\n",
        "        elif choice == '8':\n",
        "            print(\"Exiting system.\")\n",
        "            break\n",
        "        else:\n",
        "            print(\"Invalid choice. Please try again.\")"
      ]
    },
    {
      "cell_type": "code",
      "execution_count": null,
      "metadata": {
        "colab": {
          "base_uri": "https://localhost:8080/"
        },
        "id": "YxQCVJ6P7ogu",
        "outputId": "5a2197ce-cd97-4f9d-ff6f-eda52af8c9cf"
      },
      "outputs": [
        {
          "output_type": "stream",
          "name": "stdout",
          "text": [
            "\n",
            "Library Management System\n",
            "1. Add a new book\n",
            "2. Update book\n",
            "3. Delete book\n",
            "4. List all books\n",
            "5. Search for books\n",
            "6. Check out book\n",
            "7. Check in book\n",
            "8. Exit\n"
          ]
        }
      ],
      "source": [
        "if __name__ == \"__main__\":\n",
        "    main()"
      ]
    }
  ],
  "metadata": {
    "colab": {
      "provenance": []
    },
    "kernelspec": {
      "display_name": "Python 3",
      "name": "python3"
    },
    "language_info": {
      "name": "python"
    }
  },
  "nbformat": 4,
  "nbformat_minor": 0
}